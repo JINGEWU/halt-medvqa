{
 "cells": [
  {
   "cell_type": "code",
   "execution_count": 1,
   "id": "5fa0a7dd-5646-43a4-8992-fe698e4fbafc",
   "metadata": {},
   "outputs": [],
   "source": [
    "import json"
   ]
  },
  {
   "cell_type": "code",
   "execution_count": 2,
   "id": "4f9503dc-8118-4305-8f71-bc18362ec5db",
   "metadata": {},
   "outputs": [],
   "source": [
    "with open('pmc_vqa_nota1K.json') as f:\n",
    "    PMC=json.loads(f.read())\n",
    "\n",
    "with open('swap_img_shuffle.json') as f:\n",
    "    SWAP=[v for _, v in json.loads(f.read()).items()]\n",
    "\n",
    "with open('fake_qa_shuffle.json') as f:\n",
    "    FAKE=[v for _, v in json.loads(f.read()).items()]"
   ]
  },
  {
   "cell_type": "code",
   "execution_count": 4,
   "id": "de0e2a96-f641-4a46-ba57-6f673030a691",
   "metadata": {},
   "outputs": [],
   "source": [
    "def pmc_vqa(d, prompt='SIMPLE'):\n",
    "    def extract_choices(i):\n",
    "        return ' '.join([i['choice_A'].replace('A: ', 'A:').replace('A:', 'A. ').strip(),\n",
    "                 i['choice_B'].replace('B: ', 'B:').replace('B:', 'B. ').strip(),\n",
    "                 i['choice_C'].replace('C: ', 'C:').replace('C:', 'C. ').strip(),\n",
    "                 i['choice_D'].replace('D: ', 'D:').replace('D:', 'D. ').strip(),])\n",
    "    pmc_d=[{'image': i['img'], \n",
    "      'text': PROMPT_DICT[prompt].format(question=i['question'].strip(), option=extract_choices(i)),\n",
    "      'answer': i['answer'].strip(),\n",
    "      'question_id': idx\n",
    "     } for idx, i in enumerate(d)]\n",
    "\n",
    "    with open(f'./{prompt}/pmc_vqa_nota.jsonl', 'w') as fi:\n",
    "        fi.writelines([json.dumps(i)+\"\\n\" for i in pmc_d])"
   ]
  },
  {
   "cell_type": "code",
   "execution_count": 17,
   "id": "dd02368b-5407-4e3d-8f77-f69e9237ff42",
   "metadata": {},
   "outputs": [],
   "source": [
    "def swap(d, prompt='SIMPLE'):\n",
    "    def extract_choices(i):\n",
    "        return ' '.join([f'{k.strip()}. {o.strip()}' for k, o in i['option'].items()])\n",
    "    swap_d=[{'image': i['img'], \n",
    "      'text': PROMPT_DICT[prompt].format(question=i['question'].strip(), option=extract_choices(i)),\n",
    "      'answer': i['answer_id'].strip(),\n",
    "      'question_id': idx\n",
    "     } for idx, i in enumerate(d)]\n",
    "\n",
    "    with open(f'./{prompt}/swap_img_shuffle.jsonl', 'w') as fi:\n",
    "        fi.writelines([json.dumps(i)+\"\\n\" for i in swap_d])"
   ]
  },
  {
   "cell_type": "code",
   "execution_count": 18,
   "id": "43030770-4054-4ef3-b753-f881d3746a86",
   "metadata": {},
   "outputs": [],
   "source": [
    "def fake(d, prompt='SIMPLE'):\n",
    "    def extract_choices(i):\n",
    "        return ' '.join([f'{k.strip()}. {o.strip()}' for k, o in i['option'].items()])\n",
    "    fake_d=[{'image': i['img'], \n",
    "      'text': PROMPT_DICT[prompt].format(question=i['question'].strip(), option=extract_choices(i)),\n",
    "      'answer': i['answer_id'].strip(),\n",
    "      'question_id': idx\n",
    "     } for idx, i in enumerate(d)]\n",
    "\n",
    "    with open(f'./{prompt}/fake_qa_shuffle.jsonl', 'w') as fi:\n",
    "        fi.writelines([json.dumps(i)+\"\\n\" for i in fake_d])"
   ]
  },
  {
   "cell_type": "code",
   "execution_count": 51,
   "id": "c29561bb-72fb-455d-876b-c0fc88bc0977",
   "metadata": {},
   "outputs": [],
   "source": [
    "PROMPT_DICT = {\n",
    "'SIMPLE':(\n",
    "        \"{question} {option}.\"\n",
    "    ),\n",
    "'SEPARATOR':(\n",
    "        \"### Question:\\n{question}\\n\\n### Choices:\\n{option}\\n\\n### Answer:\"\n",
    "    ),\n",
    "'ONLY':(\n",
    "        \"{question} {option}. only give me one token of the answer, no other words.\"\n",
    "    ),\n",
    "'LETTER':(\n",
    "        \"Answer with the option's letter from the given choices directly.\\n\\n{question} {option}.\"\n",
    "    ),\n",
    "'LETSEP':(\n",
    "        \"Answer with the option's letter from the given choices directly.\\n\\n\"\n",
    "        \"### Question:\\n{question}\\n\\n### Choices:\\n{option}\\n\\n### Answer:\"\n",
    "    ),\n",
    "'RP0LETTER':(\n",
    "        \"You are a medical doctor and expert in medical imaging. \"\n",
    "        \"Answer with the option's letter from the given choices directly.\\n\\n{question} {option}.\"\n",
    "    ),\n",
    "'RP1LETTER':(\n",
    "        \"Act as a medical domain expert answering multiple-choice questions. \"\n",
    "        \"Answer with the option's letter from the given choices directly.\\n\\n{question} {option}.\"\n",
    "    ),\n",
    "'ACCU0LETTER':(\n",
    "        \"Always answer accurately and precisely. \"\n",
    "        \"Answer with the option's letter from the given choices directly.\\n\\n{question} {option}.\"\n",
    "    ),\n",
    "'ACCU1LETTER':(\n",
    "        \"Your answer should be precise and free of incomplete or incorrect biomedical or clinical information. \"\n",
    "        \"Answer with the option's letter from the given choices directly.\\n\\n{question} {option}.\"\n",
    "    ),\n",
    "'DONT0LETTER':(\n",
    "        \"If you don't know the answer to a question, please don't share false information. \"    \n",
    "        \"Answer with the option's letter from the given choices directly.\\n\\n{question} {option}.\"\n",
    "    ),\n",
    "'DONT1LETTER':(\n",
    "        \"If you do not know the answer, do not try to make up an answer. \"    \n",
    "        \"Answer with the option's letter from the given choices directly.\\n\\n{question} {option}.\"\n",
    "    ),\n",
    "'ACCU1RP0LETTER':(\n",
    "        \"You are a medical doctor and expert in medical imaging. \"\n",
    "        \"Your answer should be precise and free of incomplete or incorrect biomedical or clinical information. \"\n",
    "        \"Answer with the option's letter from the given choices directly.\\n\\n{question} {option}.\"\n",
    "    ),\n",
    "'ACCU1DONT0LETTER':(\n",
    "        \"Your answer should be precise and free of incomplete or incorrect biomedical or clinical information. \"\n",
    "        \"If you don't know the answer to a question, please don't share false information. \"    \n",
    "        \"Answer with the option's letter from the given choices directly.\\n\\n{question} {option}.\"\n",
    "    ),\n",
    "'RP0DONT0LETTER':(\n",
    "        \"You are a medical doctor and expert in medical imaging. \"\n",
    "        \"If you don't know the answer to a question, please don't share false information. \"    \n",
    "        \"Answer with the option's letter from the given choices directly.\\n\\n{question} {option}.\"\n",
    "    ),\n",
    "'ALL':(\n",
    "        \"You are a medical doctor and expert in medical imaging. \"\n",
    "        \"Your answer should be precise and free of incomplete or incorrect biomedical or clinical information. \"\n",
    "        \"If you don't know the answer to a question, please don't share false information. \"    \n",
    "        \"Answer with the option's letter from the given choices directly.\\n\\n{question} {option}.\"\n",
    "    ),\n",
    "'ALLSEP':(\n",
    "        \"You are a medical doctor and expert in medical imaging. \"\n",
    "        \"Your answer should be precise and free of incomplete or incorrect biomedical or clinical information. \"\n",
    "        \"If you don't know the answer to a question, please don't share false information. \"    \n",
    "        \"Answer with the option's letter from the given choices directly.\\n\\n\"\n",
    "        \"### Question:\\n{question}\\n\\n### Choices:\\n{option}\\n\\n### Answer:\"\n",
    "    ),\n",
    "'RP0DONT0LETSEP':(\n",
    "        \"You are a medical doctor and expert in medical imaging. \"\n",
    "        \"If you don't know the answer to a question, please don't share false information. \"    \n",
    "        \"Answer with the option's letter from the given choices directly.\\n\\n\"\n",
    "        \"### Question:\\n{question}\\n\\n### Choices:\\n{option}\\n\\n### Answer:\"\n",
    "    ),\n",
    "'DONT0LETSEP':(\n",
    "        \"If you don't know the answer to a question, please don't share false information. \"    \n",
    "        \"Answer with the option's letter from the given choices directly.\\n\\n\"\n",
    "        \"### Question:\\n{question}\\n\\n### Choices:\\n{option}\\n\\n### Answer:\"\n",
    "    ),\n",
    "}"
   ]
  },
  {
   "cell_type": "code",
   "execution_count": 52,
   "id": "a7f15b31-5188-452d-a736-d50321e82507",
   "metadata": {},
   "outputs": [],
   "source": [
    "import os"
   ]
  },
  {
   "cell_type": "code",
   "execution_count": 53,
   "id": "ec16bea6-77e1-46e9-8454-2a61eeedbbfe",
   "metadata": {},
   "outputs": [],
   "source": [
    "for i in PROMPT_DICT:\n",
    "    os.makedirs(f'./{i}', exist_ok=True)\n",
    "    os.makedirs(f'/working/llms/MULTIMODAL/models/llava/hallucination_test/{i}', exist_ok=True)\n",
    "    pmc_vqa(PMC, prompt=i)\n",
    "    swap(SWAP, prompt=i)\n",
    "    fake(FAKE, prompt=i)"
   ]
  },
  {
   "cell_type": "code",
   "execution_count": 23,
   "id": "fab3ecdb-b514-4994-b456-4b9c21e83041",
   "metadata": {
    "scrolled": true
   },
   "outputs": [],
   "source": []
  },
  {
   "cell_type": "code",
   "execution_count": 24,
   "id": "aba98b59-6a23-4ae9-a9d6-fa02af59b48b",
   "metadata": {},
   "outputs": [],
   "source": []
  },
  {
   "cell_type": "code",
   "execution_count": 26,
   "id": "ec4b4ae6-fea3-4f97-92f5-a506920f409f",
   "metadata": {},
   "outputs": [],
   "source": [
    "def extract_choices(i):\n",
    "    return ' '.join([f'{k.strip()}. {o.strip()}' for k, o in i['option'].items()])"
   ]
  },
  {
   "cell_type": "code",
   "execution_count": 27,
   "id": "94c51963-2fba-4fbc-a43e-7da71bb57631",
   "metadata": {
    "scrolled": true
   },
   "outputs": [],
   "source": [
    "fake_d=[{'image': i['img'], \n",
    "  'text': PROMPT_DICT['prompt'].format(question=i['question'].strip(), option=extract_choices(i)),\n",
    "  'answer': i['answer_id'].strip(),\n",
    "  'question_id': idx\n",
    " } for idx, i in enumerate(d)]"
   ]
  },
  {
   "cell_type": "code",
   "execution_count": 28,
   "id": "4b7cecf6-1f21-4327-ac8e-18eb3ba0ce23",
   "metadata": {},
   "outputs": [],
   "source": [
    "with open('fake_qa_shuffle.jsonl', 'w') as fi:\n",
    "    fi.writelines([json.dumps(i)+\"\\n\" for i in swap_d])"
   ]
  },
  {
   "cell_type": "code",
   "execution_count": null,
   "id": "92ba93c5-eb88-47f1-b446-b10e871310b2",
   "metadata": {},
   "outputs": [],
   "source": []
  }
 ],
 "metadata": {
  "kernelspec": {
   "display_name": "Python 3 (ipykernel)",
   "language": "python",
   "name": "python3"
  },
  "language_info": {
   "codemirror_mode": {
    "name": "ipython",
    "version": 3
   },
   "file_extension": ".py",
   "mimetype": "text/x-python",
   "name": "python",
   "nbconvert_exporter": "python",
   "pygments_lexer": "ipython3",
   "version": "3.10.13"
  }
 },
 "nbformat": 4,
 "nbformat_minor": 5
}
